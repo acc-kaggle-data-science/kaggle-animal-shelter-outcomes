{"cells":[
 {
  "cell_type": "markdown",
  "metadata": {},
  "source": "I estimate here what is the \"probability\" of various outcomes (e.g., adoption, euthanasia) as a function of animal age, gender, and breed.\nI treat dogs and cats separately in all cases.\nProbability is in quotation marks because what I calculate is fractions (nr. of animals with given age and outcome / nr. of animals with given age) and not real probabilities.\n\nThe breed feature is difficult to work with and I'm not sure I'm doing the best thing. There are mix breeds (e.g., Plott Hound/Boxer - separated with /) and there are breeds with Mix in their names (e.g., German Shepherd Mix).\nFor now, I identified all unique breeds: Plott Hound, Boxer, German Shepherd, and Mix are the 4 unique breeds in the examples above. For each breed entry, I check which unique breeds are present, and use all hits to calculate the fractions. That is, mixed breed animals are counted more than once.\n\nWhat I found:\n\n- Young dogs (older than a month) are likely adopted.\n- Old dogs are likely returned to their owner.\n- Young (older than a month) and old cats are likely adopted.\n- Old cats are likely euthanised.\n- Dogs in general are more likely to be returned to their owner than cats.\n- Some small dogs (e.g., Shin Tzus, Lhasa Apsos, Pekingese) have a very low adoption probability (~10% while the average is ~40%). \n- Dogs percieved agressive (Pit Bulls, Bull Dogs, Siberian Huskies, Rottweilers) also have a lower than average adoption probability (~30%).\n- Neutered males and spayed females are much more likely to get adopted. \n\nThe last point is potentially actionable!\n\n- If it is possible and not too expensive to neuter/spay the incoming animals, their probability of adoption could go from ~5% to ~50% for dogs and more than 60% for cats. \n\nOne of the figures also show that cats with names are 4 times more likely to get adopted. This correlation was intriguing and potentially actionable (give name to cats to boost their adoption rate), but it is explained by the large number of neonatal cats who are unnamed and not adoptable. See Fig. 1 of my blog post for more details:\n\nhttps://www.kaggle.com/c/shelter-animal-outcomes/forums/t/22538/solution-of-team-kaggle-for-the-paws-no-outcome-datetime-features\n\nPlease also check out my other scripts:\n\nThe solution of my team (Kaggle for the paws) is described here (git repo is available there):\n\nhttps://www.kaggle.com/c/shelter-animal-outcomes/forums/t/22538/solution-of-team-kaggle-for-the-paws-no-outcome-datetime-features\n\nI group dog breeds into dog groups (e.g., herding, sporting, toy). This conversion reduces the number of categories and provides new insigths into the problem.\n\nhttps://www.kaggle.com/andraszsom/shelter-animal-outcomes/dog-breeds-dog-groups\n\nI calculate uncertainty estimates (confidence intervals) for the outcome types. The main question I answer there is this: what is the confidence interval of the true outcome probabilities based on the observed probabilities?   \n\nhttps://www.kaggle.com/andraszsom/shelter-animal-outcomes/uncertainty-estimates-of-outcome-types\n\nLet's start!\n"
 },
 {
  "cell_type": "markdown",
  "metadata": {},
  "source": "Question 1: What fraction of animals end up with the various outcomes as a function of the animal's age?"
 },
 {
  "cell_type": "code",
  "execution_count": null,
  "metadata": {
   "collapsed": false
  },
  "outputs": [],
  "source": "import pandas as pd\nimport numpy as np\nimport matplotlib.pyplot as plt\nimport matplotlib\n%matplotlib inline\nmatplotlib.rcParams.update({'font.size': 12})"
 },
 {
  "cell_type": "markdown",
  "metadata": {},
  "source": "Function to convert age to days:"
 },
 {
  "cell_type": "code",
  "execution_count": null,
  "metadata": {
   "collapsed": false
  },
  "outputs": [],
  "source": "def age_to_days(item):\n    # convert item to list if it is one string\n    if type(item) is str:\n        item = [item]\n    ages_in_days = np.zeros(len(item))\n    for i in range(len(item)):\n        # check if item[i] is str\n        if type(item[i]) is str:\n            if 'day' in item[i]:\n                ages_in_days[i] = int(item[i].split(' ')[0])\n            if 'week' in item[i]:\n                ages_in_days[i] = int(item[i].split(' ')[0])*7\n            if 'month' in item[i]:\n                ages_in_days[i] = int(item[i].split(' ')[0])*30\n            if 'year' in item[i]:\n                ages_in_days[i] = int(item[i].split(' ')[0])*365    \n        else:\n            # item[i] is not a string but a nan\n            ages_in_days[i] = 0\n    return ages_in_days"
 },
 {
  "cell_type": "markdown",
  "metadata": {},
  "source": "Load the data:"
 },
 {
  "cell_type": "code",
  "execution_count": null,
  "metadata": {
   "collapsed": false
  },
  "outputs": [],
  "source": "df = pd.read_csv('../input/train.csv', sep=',')\n\nfeature = 'AgeuponOutcome'\nfeature_values_dog = np.array(df.loc[df['AnimalType'] == 'Dog',feature])\noutcome_dog = np.array(df.loc[df['AnimalType'] == 'Dog','OutcomeType'])\n\nfeature_values_cat = np.array(df.loc[df['AnimalType'] == 'Cat',feature])\noutcome_cat = np.array(df.loc[df['AnimalType'] == 'Cat','OutcomeType'])"
 },
 {
  "cell_type": "markdown",
  "metadata": {},
  "source": "Calculate the fractions of outcomes:"
 },
 {
  "cell_type": "code",
  "execution_count": null,
  "metadata": {
   "collapsed": false
  },
  "outputs": [],
  "source": "ages_dog = age_to_days(feature_values_dog)\nages_cat = age_to_days(feature_values_cat)\n\nunique_ages = np.unique(np.append(ages_dog,ages_cat))\nunique_outcomes = np.unique(np.append(outcome_dog,outcome_cat))\n\nfractions_cat = np.zeros([len(unique_ages),len(unique_outcomes)])\nfractions_dog = np.zeros([len(unique_ages),len(unique_outcomes)])\nnr_animals_with_age_dog = np.zeros(len(unique_ages))\nnr_animals_with_age_cat = np.zeros(len(unique_ages))\n\nfor i in range(len(unique_ages)):\n    for j in range(len(unique_outcomes)):\n        sublist_dog = outcome_dog[ages_dog == unique_ages[i]]  \n        if len(sublist_dog) > 0:\n            fractions_dog[i,j] = 1e0*len(sublist_dog[sublist_dog == unique_outcomes[j]]) / len(sublist_dog)\n        else:\n            fractions_dog[i,j] = 0e0\n        sublist_cat = outcome_cat[ages_cat == unique_ages[i]]        \n        fractions_cat[i,j] = 1e0*len(sublist_cat[sublist_cat == unique_outcomes[j]]) / len(sublist_cat)\n        \n    nr_animals_with_age_dog[i] = len(sublist_dog)\n    nr_animals_with_age_cat[i] = len(sublist_cat)"
 },
 {
  "cell_type": "markdown",
  "metadata": {},
  "source": "Figures:"
 },
 {
  "cell_type": "code",
  "execution_count": null,
  "metadata": {
   "collapsed": false
  },
  "outputs": [],
  "source": "# nr of animals vs age\nplt.figure(figsize=(10,4))\nplt.subplot(1, 2, 1)\nplt.title('Dog')\nplt.plot(unique_ages,nr_animals_with_age_dog,'+',markersize=10,mew=2)\nplt.plot(unique_ages,nr_animals_with_age_dog)\nplt.xlim([0.7,1e4])\nplt.xscale('log')\nplt.yscale('log')\nplt.xlabel('age [days]')\nplt.ylabel('number of animals in train.csv')\nplt.tight_layout(w_pad=0, h_pad=0)\n\nplt.subplot(1, 2, 2)\nplt.title('Cat')\nplt.plot(unique_ages,nr_animals_with_age_cat,'+',markersize=10,mew=2)\nplt.plot(unique_ages,nr_animals_with_age_cat)\nplt.xlim([0.7,1e4])\nplt.xscale('log')\nplt.yscale('log')\nplt.xlabel('age [days]')\nplt.ylabel('number of animals in train.csv')\nplt.tight_layout(w_pad=0, h_pad=0)\nplt.savefig('age-vs-nr_points.jpg',dpi=150)\nplt.show()\nplt.close()\n"
 },
 {
  "cell_type": "code",
  "execution_count": null,
  "metadata": {
   "collapsed": false
  },
  "outputs": [],
  "source": "# fraction of outcomes\n\nages_for_axis = np.append(unique_ages,age_to_days('20 years'))\n\nleft = (ages_for_axis[1:-1] + ages_for_axis[:-2])/2e0\nright = (ages_for_axis[1:-1] + ages_for_axis[2:])/2e0\nwidth = right-left\n\nplt.figure(figsize=(10,4))\n\nplt.subplot(1, 2, 1)\nplt.title('Dog')\nplt.xlabel('age [days]')\nplt.ylabel('fraction outcomes')\nplt.xscale('log')\nplt.xlim([0.7,1e4])\nplt1 = plt.bar(left, fractions_dog[1:,0], width,color='#5A8F29',edgecolor='none')\nplt2 = plt.bar(left, fractions_dog[1:,1], width,color='k',bottom = np.sum(fractions_dog[1:,:1],axis=1),edgecolor='none')\nplt3 = plt.bar(left, fractions_dog[1:,2], width,color='#FF8F00',bottom = np.sum(fractions_dog[1:,:2],axis=1),edgecolor='none')\nplt4 = plt.bar(left, fractions_dog[1:,3], width,color='#FFF5EE',bottom = np.sum(fractions_dog[1:,:3],axis=1),edgecolor='none')\nplt5 = plt.bar(left, fractions_dog[1:,4], width,color='#3C7DC4',bottom = np.sum(fractions_dog[1:,:4],axis=1),edgecolor='none')\nplt.legend([plt1,plt2,plt3,plt4,plt5],unique_outcomes,loc=2,fontsize=10)\nplt.tight_layout(w_pad=0, h_pad=0)\nplt.tick_params(axis='x', length=6, which='major',width=2)\nplt.tick_params(axis='x', length=4, which='minor',width=1)\nplt.minorticks_on()\nplt.tight_layout(w_pad=0, h_pad=0)\n\nplt.subplot(1, 2, 2)\nplt.title('Cat')\nplt.xlabel('age [days]')\nplt.ylabel('fraction outcomes')\nplt.xscale('log')\nplt.xlim([0.7,1e4])\nplt1 = plt.bar(left, fractions_cat[1:,0], width,color='#5A8F29',edgecolor='none')\nplt2 = plt.bar(left, fractions_cat[1:,1], width,color='k',bottom = np.sum(fractions_cat[1:,:1],axis=1),edgecolor='none')\nplt3 = plt.bar(left, fractions_cat[1:,2], width,color='#FF8F00',bottom = np.sum(fractions_cat[1:,:2],axis=1),edgecolor='none')\nplt4 = plt.bar(left, fractions_cat[1:,3], width,color='#FFF5EE',bottom = np.sum(fractions_cat[1:,:3],axis=1),edgecolor='none')\nplt5 = plt.bar(left, fractions_cat[1:,4], width,color='#3C7DC4',bottom = np.sum(fractions_cat[1:,:4],axis=1),edgecolor='none')\nplt.legend([plt1,plt2,plt3,plt4,plt5],unique_outcomes,loc=2,fontsize=10)\nplt.tight_layout(w_pad=0, h_pad=0)\nplt.tick_params(axis='x', length=6, which='major',width=2)\nplt.tick_params(axis='x', length=4, which='minor',width=1)\nplt.minorticks_on()\nplt.tight_layout(w_pad=0, h_pad=0)\nplt.savefig('age-vs-outcome.jpg',dpi=150)\nplt.show()\nplt.close()"
 },
 {
  "cell_type": "markdown",
  "metadata": {},
  "source": "- Young dogs (older than a month) are likely adopted.\n- Old dogs are likely returned to their owner.\n- Young (older than a month) and old cats are likely adopted.\n- Old cats are likely euthanised."
 },
 {
  "cell_type": "markdown",
  "metadata": {},
  "source": "Question 2: What fraction of animals end up adopted/euthanised etc. vs. their gender?"
 },
 {
  "cell_type": "code",
  "execution_count": null,
  "metadata": {
   "collapsed": false
  },
  "outputs": [],
  "source": "feature = 'SexuponOutcome'\n\nfeature_values_dog = np.array(df.loc[df['AnimalType'] == 'Dog',feature])\noutcome_dog = np.array(df.loc[df['AnimalType'] == 'Dog','OutcomeType'])\n\nfeature_values_cat = np.array(df.loc[df['AnimalType'] == 'Cat',feature])\noutcome_cat = np.array(df.loc[df['AnimalType'] == 'Cat','OutcomeType'])\n\nunique_sexes = np.unique(feature_values_cat)\nunique_outcomes = np.unique(np.append(outcome_dog,outcome_cat))\n\nfractions_cat = np.zeros([len(unique_sexes),len(unique_outcomes)])\nfractions_dog = np.zeros([len(unique_sexes),len(unique_outcomes)])\nnr_animals_with_sex_dog = np.zeros(len(unique_sexes))\nnr_animals_with_sex_cat = np.zeros(len(unique_sexes))\n\nfor i in range(len(unique_sexes)):\n    for j in range(len(unique_outcomes)):\n        sublist_dog = outcome_dog[feature_values_dog == unique_sexes[i]]  \n        if len(sublist_dog) > 0:\n            fractions_dog[i,j] = 1e0*len(sublist_dog[sublist_dog == unique_outcomes[j]]) / len(sublist_dog)\n        else:\n            fractions_dog[i,j] = 0e0\n        sublist_cat = outcome_cat[feature_values_cat == unique_sexes[i]]        \n        fractions_cat[i,j] = 1e0*len(sublist_cat[sublist_cat == unique_outcomes[j]]) / len(sublist_cat)\n        \n    nr_animals_with_sex_dog[i] = len(sublist_dog)\n    nr_animals_with_sex_cat[i] = len(sublist_cat)\n    "
 },
 {
  "cell_type": "markdown",
  "metadata": {},
  "source": "Plots:"
 },
 {
  "cell_type": "code",
  "execution_count": null,
  "metadata": {
   "collapsed": false
  },
  "outputs": [],
  "source": "\n# nr of animals with given sexes\n\nplt.figure(figsize=(10,4))\nplt.subplot(1, 2, 1)\nplt.title('Dog')\nplt.xlim([-0.5,4.5])\nplt.plot(range(len(unique_sexes)),nr_animals_with_sex_dog,'+',markersize=10,mew=2)\nplt.xticks(range(len(unique_sexes)), unique_sexes, rotation=20)\nplt.xlabel('sex')\nplt.ylabel('number of animals in train.csv')\n\nplt.subplot(1, 2, 2)\nplt.title('Cat')\nplt.xlim([-0.5,4.5])\nplt.plot(range(len(unique_sexes)),nr_animals_with_sex_cat,'+',markersize=10,mew=2)\nplt.xticks(range(len(unique_sexes)), unique_sexes, rotation=20)\nplt.xlabel('sex')\nplt.ylabel('number of animals in train.csv')\nplt.tight_layout()\nplt.savefig('gender-vs-nr_points.jpg',dpi=150)\nplt.show()\n"
 },
 {
  "cell_type": "code",
  "execution_count": null,
  "metadata": {
   "collapsed": false
  },
  "outputs": [],
  "source": "plt.figure(figsize=(10,4))\n\nplt.subplot(1, 2, 1)\nplt.title('Dog')\nplt.xlabel('sex')\nplt.ylabel('fraction outcomes')\nplt.xlim([-0.5,4.5])\nplt1 = plt.bar(np.arange(len(unique_sexes))-0.25, fractions_dog[:,0], 0.5,color='#5A8F29')\nplt2 = plt.bar(np.arange(len(unique_sexes))-0.25, fractions_dog[:,1], 0.5,color='k',bottom = np.sum(fractions_dog[:,:1],axis=1))\nplt3 = plt.bar(np.arange(len(unique_sexes))-0.25, fractions_dog[:,2], 0.5,color='#FF8F00',bottom = np.sum(fractions_dog[:,:2],axis=1))\nplt4 = plt.bar(np.arange(len(unique_sexes))-0.25, fractions_dog[:,3], 0.5,color='#FFF5EE',bottom = np.sum(fractions_dog[:,:3],axis=1))\nplt5 = plt.bar(np.arange(len(unique_sexes))-0.25, fractions_dog[:,4], 0.5,color='#3C7DC4',bottom = np.sum(fractions_dog[:,:4],axis=1))\nplt.legend([plt1,plt2,plt3,plt4,plt5],unique_outcomes,loc=2,fontsize=10)\nplt.xticks(range(len(unique_sexes)), unique_sexes, rotation=20)\n\nplt.subplot(1, 2, 2)\nplt.title('Cat')\nplt.xlabel('sex')\nplt.ylabel('fraction outcomes')\nplt.xlim([-0.5,4.5])\nplt1 = plt.bar(np.arange(len(unique_sexes))-0.25, fractions_cat[:,0], 0.5,color='#5A8F29')\nplt2 = plt.bar(np.arange(len(unique_sexes))-0.25, fractions_cat[:,1], 0.5,color='k',bottom = np.sum(fractions_cat[:,:1],axis=1))\nplt3 = plt.bar(np.arange(len(unique_sexes))-0.25, fractions_cat[:,2], 0.5,color='#FF8F00',bottom = np.sum(fractions_cat[:,:2],axis=1))\nplt4 = plt.bar(np.arange(len(unique_sexes))-0.25, fractions_cat[:,3], 0.5,color='#FFF5EE',bottom = np.sum(fractions_cat[:,:3],axis=1))\nplt5 = plt.bar(np.arange(len(unique_sexes))-0.25, fractions_cat[:,4], 0.5,color='#3C7DC4',bottom = np.sum(fractions_cat[:,:4],axis=1))\nplt.legend([plt1,plt2,plt3,plt4,plt5],unique_outcomes,loc=2,fontsize=10)\nplt.xticks(range(len(unique_sexes)), unique_sexes, rotation=20)\nplt.tight_layout()\nplt.savefig('gender-vs-outcome.jpg',dpi=150)\nplt.show()"
 },
 {
  "cell_type": "markdown",
  "metadata": {},
  "source": "- Dogs in general are more likely to be returned to their owner than cats.\n- Intact males/females are less likely to get adopted.\n\nThe last point is potentially actionable. If it is possible and not too expensive to neuter/spay the incoming animals, their probability of adoption would go from ~5% to ~50% for dogs and more than 60% for cats."
 },
 {
  "cell_type": "markdown",
  "metadata": {},
  "source": "Question 3: breed vs. outcome?"
 },
 {
  "cell_type": "code",
  "execution_count": null,
  "metadata": {
   "collapsed": false
  },
  "outputs": [],
  "source": "# Load data\nfeature = 'Breed'\n\nfeature_values_dog = df.loc[df['AnimalType'] == 'Dog',feature]\noutcome_dog = df.loc[df['AnimalType'] == 'Dog','OutcomeType']\n\nfeature_values_cat = df.loc[df['AnimalType'] == 'Cat',feature]\noutcome_cat = df.loc[df['AnimalType'] == 'Cat','OutcomeType']"
 },
 {
  "cell_type": "code",
  "execution_count": null,
  "metadata": {
   "collapsed": false
  },
  "outputs": [],
  "source": "# collect unique breeds:\n# split up mixed breeds and merge the sublists\nfeature_values = [i.split('/') for i in feature_values_dog]\nfeature_values = [j for i in feature_values for j in i]\n# remove 'Mix' from the strings, but add it as a unique element\nfeature_values = [i == i[:-4] if i[-3:] == 'Mix' else i for i in feature_values]\nfeature_values = feature_values + ['Mix']\nunique_breeds_dog = np.unique(feature_values)\n\n# same for cats\nfeature_values = [i.split('/') for i in feature_values_cat]\nfeature_values = [j for i in feature_values for j in i]\n# remove 'Mix' from the strings, but add it as a unique element\nfeature_values = [i == i[:-4] if i[-3:] == 'Mix' else i for i in feature_values]\nfeature_values = feature_values + ['Mix']\nunique_breeds_cat = np.unique(feature_values)\n\n# unique outcomes:\nunique_outcomes = np.unique(np.append(outcome_dog,outcome_cat))\n"
 },
 {
  "cell_type": "code",
  "execution_count": null,
  "metadata": {
   "collapsed": false
  },
  "outputs": [],
  "source": "# arrays to fill\nfractions_cat = np.zeros([len(unique_breeds_cat),len(unique_outcomes)])\nfractions_dog = np.zeros([len(unique_breeds_dog),len(unique_outcomes)])\nnr_animals_with_breed_dog = np.zeros(len(unique_breeds_dog))\nnr_animals_with_breed_cat = np.zeros(len(unique_breeds_cat))\n\nfor i in range(len(unique_breeds_dog)):\n    sublist_dog = outcome_dog[[unique_breeds_dog[i] in x for x in feature_values_dog]]\n    \n    for j in range(len(unique_outcomes)):\n        if len(sublist_dog) > 0:\n            fractions_dog[i,j] = 1e0*len(sublist_dog[sublist_dog == unique_outcomes[j]]) / len(sublist_dog)\n        else:\n            fractions_dog[i,j] = 0e0\n    nr_animals_with_breed_dog[i] = len(sublist_dog)\n    \nfor i in range(len(unique_breeds_cat)):\n    sublist_cat = outcome_cat[[unique_breeds_cat[i] in x for x in feature_values_cat]]\n    for j in range(len(unique_outcomes)):\n        if len(sublist_cat) > 0:\n            fractions_cat[i,j] = 1e0*len(sublist_cat[sublist_cat == unique_outcomes[j]]) / len(sublist_cat)\n        else:\n            fractions_cat[i,j] = 0e0\n    nr_animals_with_breed_cat[i] = len(sublist_cat)\n"
 },
 {
  "cell_type": "code",
  "execution_count": null,
  "metadata": {
   "collapsed": false
  },
  "outputs": [],
  "source": "# sort the dog and cat fractions with respect to nr. of animals in train.csv\nindcs_dog = np.argsort(nr_animals_with_breed_dog)\nfractions_dog = fractions_dog[indcs_dog]\n\nindcs_cat = np.argsort(nr_animals_with_breed_cat)\nfractions_cat = fractions_cat[indcs_cat]"
 },
 {
  "cell_type": "code",
  "execution_count": null,
  "metadata": {
   "collapsed": false
  },
  "outputs": [],
  "source": "# plot figures\n\nplt.figure(figsize=(25,10))\n\nplt.subplot(2,1,1)\nplt.title('Dog')\nplt.yscale('log')\nplt.xticks([])\nplt.xlim([0,len(unique_breeds_dog)])\nplt.plot(range(len(unique_breeds_dog)),nr_animals_with_breed_dog[indcs_dog],'+',markersize=10,mew=2)\nplt.ylabel('number of animals in train.csv')\nplt.tick_params(axis='x', length=6, which='major',width=2)\nplt.tick_params(axis='x', length=4, which='minor',width=1)\nplt.minorticks_on()\n\nplt.subplot(2,1,2)\nplt.xlabel('breed')\nplt.ylabel('fraction outcomes')\nplt.xlim([0,len(unique_breeds_dog)])\nplt.ylim([0,1])\nplt.plot(np.arange(len(unique_breeds_dog)+2),np.zeros(len(unique_breeds_dog)+2)+np.average(fractions_dog[:,0],weights = nr_animals_with_breed_dog[indcs_dog]),'k')\nplt1 = plt.bar(np.arange(len(unique_breeds_dog))-0.5, fractions_dog[:,0], 1,color='#5A8F29',edgecolor='none')\nplt2 = plt.bar(np.arange(len(unique_breeds_dog))-0.5, fractions_dog[:,1], 1,color='k',bottom = np.sum(fractions_dog[:,:1],axis=1),edgecolor='none')\nplt3 = plt.bar(np.arange(len(unique_breeds_dog))-0.5, fractions_dog[:,2], 1,color='#FF8F00',bottom = np.sum(fractions_dog[:,:2],axis=1),edgecolor='none')\nplt4 = plt.bar(np.arange(len(unique_breeds_dog))-0.5, fractions_dog[:,3], 1,color='#FFF5EE',bottom = np.sum(fractions_dog[:,:3],axis=1),edgecolor='none')\nplt5 = plt.bar(np.arange(len(unique_breeds_dog))-0.5, fractions_dog[:,4], 1,color='#3C7DC4',bottom = np.sum(fractions_dog[:,:4],axis=1),edgecolor='none')\nplt.xticks(np.arange(len(unique_breeds_dog))+1, unique_breeds_dog[indcs_dog[1:]], rotation=90)\nplt.legend([plt1,plt2,plt3,plt4,plt5],unique_outcomes,loc=2,fontsize=10)\nplt.tight_layout(w_pad=0, h_pad=0)\nplt.savefig('breed-vs-outcome_dog.jpg',dpi=150)\nplt.show()\nplt.close()\n\n\nplt.figure(figsize=(8,8))\n\nplt.subplot(2,1,1)\nplt.title('Cat')\nplt.yscale('log')\nplt.xticks([])\nplt.xlim([0,len(unique_breeds_cat)])\nplt.plot(range(len(unique_breeds_cat)),nr_animals_with_breed_cat[indcs_cat[0:]],'+',markersize=10,mew=2)\nplt.ylabel('number of animals in train.csv')\nplt.tight_layout(w_pad=0, h_pad=0)\n\nplt.subplot(2,1,2)\nplt.xlabel('breed')\nplt.ylabel('fraction outcomes')\nplt.xlim([0,len(unique_breeds_cat)])\nplt.ylim([0,1])\nplt1 = plt.bar(np.arange(len(unique_breeds_cat))-0.5, fractions_cat[:,0], 1,color='#5A8F29',edgecolor='none')\nplt2 = plt.bar(np.arange(len(unique_breeds_cat))-0.5, fractions_cat[:,1], 1,color='k',bottom = np.sum(fractions_cat[:,:1],axis=1),edgecolor='none')\nplt3 = plt.bar(np.arange(len(unique_breeds_cat))-0.5, fractions_cat[:,2], 1,color='#FF8F00',bottom = np.sum(fractions_cat[:,:2],axis=1),edgecolor='none')\nplt4 = plt.bar(np.arange(len(unique_breeds_cat))-0.5, fractions_cat[:,3], 1,color='#FFF5EE',bottom = np.sum(fractions_cat[:,:3],axis=1),edgecolor='none')\nplt5 = plt.bar(np.arange(len(unique_breeds_cat))-0.5, fractions_cat[:,4], 1,color='#3C7DC4',bottom = np.sum(fractions_cat[:,:4],axis=1),edgecolor='none')\nplt.legend([plt1,plt2,plt3,plt4,plt5],unique_outcomes,loc=2,fontsize=10)\nplt.xticks(np.arange(len(unique_breeds_cat))+1, unique_breeds_cat[indcs_cat[1:]], rotation=90)\nplt.tick_params(axis='x', length=6, which='major',width=2)\nplt.tick_params(axis='x', length=4, which='minor',width=1)\nplt.minorticks_on()\nplt.tight_layout(w_pad=0, h_pad=0)\nplt.savefig('breed-vs-outcome_cat.jpg',dpi=150)\nplt.show()\nplt.close()"
 },
 {
  "cell_type": "markdown",
  "metadata": {},
  "source": "- Some small dogs (e.g., Shin Tzus, Lhasa Apsos, Pekingese) have a very low adoption probability (~10% while the average is ~40%). \n- Dogs percieved agressive (Pit Bulls, Bull Dogs, Siberian Huskies, Rottweilers) also have a lower than average adoption probability (~30%).\n\nThe black line on breed-vs-outcome_dog shows the weighted average adoption probability."
 },
 {
  "cell_type": "code",
  "execution_count": null,
  "metadata": {
   "collapsed": false
  },
  "outputs": [],
  "source": "# check the name feature vs outcomes\n\nfeature = 'Name'\n\nfeature_values_dog = df.loc[df['AnimalType'] == 'Dog',feature]\noutcome_dog = df.loc[df['AnimalType'] == 'Dog','OutcomeType']\noutcome_dog = np.array(outcome_dog)\n\nfeature_values_cat = df.loc[df['AnimalType'] == 'Cat',feature]\noutcome_cat = df.loc[df['AnimalType'] == 'Cat','OutcomeType']\noutcome_cat = np.array(outcome_cat)\n\n# unique outcomes:\nunique_outcomes = np.unique(outcome_dog)\n\nfraction_outcomes_cat = np.zeros([2,5])\nfraction_outcomes_dog = np.zeros([2,5])\n\n\nfor i in range(len(unique_outcomes)):\n    cat_noname = np.sum(feature_values_cat[outcome_cat == unique_outcomes[i]].isnull())\n    cat_with_name = np.sum(feature_values_cat[outcome_cat == unique_outcomes[i]].notnull())\n    dog_noname = np.sum(feature_values_dog[outcome_dog == unique_outcomes[i]].isnull())\n    dog_with_name = np.sum(feature_values_dog[outcome_dog == unique_outcomes[i]].notnull())\n    \n    fraction_outcomes_cat[0,i] = 1e0*cat_noname/np.sum(feature_values_cat.isnull())\n    fraction_outcomes_cat[1,i] = 1e0*cat_with_name/np.sum(feature_values_cat.notnull())\n\n    fraction_outcomes_dog[0,i] = 1e0*dog_noname/np.sum(feature_values_dog.isnull())\n    fraction_outcomes_dog[1,i] = 1e0*dog_with_name/np.sum(feature_values_dog.notnull())\n\n# plot\nplt.figure(figsize=(6,4))\n\nplt.subplot(1, 2, 1)\nplt.title('Dog')\nplt.ylabel('fraction outcomes')\nplt.xlim([-0.5,1.5])\nplt1 = plt.bar(np.arange(2)-0.25, fraction_outcomes_dog[:,0], 0.5,color='#5A8F29')\nplt2 = plt.bar(np.arange(2)-0.25, fraction_outcomes_dog[:,1], 0.5,color='k',bottom = np.sum(fraction_outcomes_dog[:,:1],axis=1))\nplt3 = plt.bar(np.arange(2)-0.25, fraction_outcomes_dog[:,2], 0.5,color='#FF8F00',bottom = np.sum(fraction_outcomes_dog[:,:2],axis=1))\nplt4 = plt.bar(np.arange(2)-0.25, fraction_outcomes_dog[:,3], 0.5,color='#FFF5EE',bottom = np.sum(fraction_outcomes_dog[:,:3],axis=1))\nplt5 = plt.bar(np.arange(2)-0.25, fraction_outcomes_dog[:,4], 0.5,color='#3C7DC4',bottom = np.sum(fraction_outcomes_dog[:,:4],axis=1))\nplt.xticks(range(2), ['Unnamed','Named'], rotation=0)\n\nplt.subplot(1, 2, 2)\nplt.title('Cat')\nplt.ylabel('fraction outcomes')\nplt.xlim([-0.5,1.5])\nplt1 = plt.bar(np.arange(2)-0.25, fraction_outcomes_cat[:,0], 0.5,color='#5A8F29')\nplt2 = plt.bar(np.arange(2)-0.25, fraction_outcomes_cat[:,1], 0.5,color='k',bottom = np.sum(fraction_outcomes_cat[:,:1],axis=1))\nplt3 = plt.bar(np.arange(2)-0.25, fraction_outcomes_cat[:,2], 0.5,color='#FF8F00',bottom = np.sum(fraction_outcomes_cat[:,:2],axis=1))\nplt4 = plt.bar(np.arange(2)-0.25, fraction_outcomes_cat[:,3], 0.5,color='#FFF5EE',bottom = np.sum(fraction_outcomes_cat[:,:3],axis=1))\nplt5 = plt.bar(np.arange(2)-0.25, fraction_outcomes_cat[:,4], 0.5,color='#3C7DC4',bottom = np.sum(fraction_outcomes_cat[:,:4],axis=1))\nplt.xticks(range(2), ['Unnamed','Named'], rotation=0)\n\nplt.figlegend([plt1,plt2,plt3,plt4,plt5],unique_outcomes,loc='center',fontsize=12,bbox_to_anchor=(0.5, 1.04),\n          ncol=3, fancybox=True, shadow=True)\n\nplt.tight_layout()\nplt.savefig('outcome-vs-name.jpg',bbox_inches='tight',dpi=150)\nplt.show()\nplt.close()\n"
 },
 {
  "cell_type": "markdown",
  "metadata": {},
  "source": "- Dogs with names are more likely to returned to their owner. \n- For both animals, euthanasia is more likely if they are unnamed.\n- Cats are ~4 times more likely to get adopted if they are named.\n\nThe last point is explained by the large number of neonatal cats which are unnamed and not adoptable, thus this correlation is not actionable. For more details, see Fig. 1 of my blog post:\n\nhttps://andraszsom.wordpress.com/2016/07/27/kaggle-for-the-paws/"
 }
],"metadata":{"kernelspec":{"display_name":"Python 3","language":"python","name":"python3"}}, "nbformat": 4, "nbformat_minor": 0}